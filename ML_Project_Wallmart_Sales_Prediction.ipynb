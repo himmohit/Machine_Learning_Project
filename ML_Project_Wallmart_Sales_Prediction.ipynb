{
  "nbformat": 4,
  "nbformat_minor": 0,
  "metadata": {
    "colab": {
      "name": "ML_Project_Wallmart_Sales_Prediction.ipynb",
      "provenance": [],
      "collapsed_sections": []
    },
    "kernelspec": {
      "name": "python3",
      "display_name": "Python 3"
    },
    "language_info": {
      "name": "python"
    }
  },
  "cells": [
    {
      "cell_type": "markdown",
      "metadata": {
        "id": "_jwJELdo9mlp"
      },
      "source": [
        "***: Importing important Libraries and Loading Dataset.***\n",
        "\n",
        "*   Numpy:-      In this Project we are using 'Numpy' Library for Numbers Operation here.\n",
        "*   Pandas:-     In this Project we are using 'Pandas' Library for EDA and data related task.\n",
        "*   Matplotlib:- 'Matplotlib' we are using for Visualization Purpose.\n",
        "*   Seaborn:-    With the help of 'Seaborn' we can visualize the data in advanced form.\n",
        "\n"
      ]
    },
    {
      "cell_type": "code",
      "metadata": {
        "id": "v4kOeQJ89S9Y"
      },
      "source": [
        "# Importing all the needed libraries here.\n",
        "\n",
        "import numpy as np\n",
        "import pandas as pd\n",
        "import matplotlib.pyplot as plt\n",
        "import seaborn as sns"
      ],
      "execution_count": 1,
      "outputs": []
    },
    {
      "cell_type": "code",
      "metadata": {
        "colab": {
          "base_uri": "https://localhost:8080/",
          "height": 200
        },
        "id": "0PjT5JGN9iQj",
        "outputId": "bac9e71e-5c67-4784-a4bd-99b4009c0806"
      },
      "source": [
        "# Loading dataset and printing first 5 rows.\n",
        "\n",
        "dataset = pd.read_csv('wallmart.csv')\n",
        "dataset.head()"
      ],
      "execution_count": 2,
      "outputs": [
        {
          "output_type": "execute_result",
          "data": {
            "text/html": [
              "<div>\n",
              "<style scoped>\n",
              "    .dataframe tbody tr th:only-of-type {\n",
              "        vertical-align: middle;\n",
              "    }\n",
              "\n",
              "    .dataframe tbody tr th {\n",
              "        vertical-align: top;\n",
              "    }\n",
              "\n",
              "    .dataframe thead th {\n",
              "        text-align: right;\n",
              "    }\n",
              "</style>\n",
              "<table border=\"1\" class=\"dataframe\">\n",
              "  <thead>\n",
              "    <tr style=\"text-align: right;\">\n",
              "      <th></th>\n",
              "      <th>Store</th>\n",
              "      <th>Dept</th>\n",
              "      <th>Date</th>\n",
              "      <th>Weekly_Sales</th>\n",
              "      <th>IsHoliday</th>\n",
              "    </tr>\n",
              "  </thead>\n",
              "  <tbody>\n",
              "    <tr>\n",
              "      <th>0</th>\n",
              "      <td>1</td>\n",
              "      <td>1</td>\n",
              "      <td>2010-02-05</td>\n",
              "      <td>24924.50</td>\n",
              "      <td>False</td>\n",
              "    </tr>\n",
              "    <tr>\n",
              "      <th>1</th>\n",
              "      <td>1</td>\n",
              "      <td>1</td>\n",
              "      <td>2010-02-12</td>\n",
              "      <td>46039.49</td>\n",
              "      <td>True</td>\n",
              "    </tr>\n",
              "    <tr>\n",
              "      <th>2</th>\n",
              "      <td>1</td>\n",
              "      <td>1</td>\n",
              "      <td>2010-02-19</td>\n",
              "      <td>41595.55</td>\n",
              "      <td>False</td>\n",
              "    </tr>\n",
              "    <tr>\n",
              "      <th>3</th>\n",
              "      <td>1</td>\n",
              "      <td>1</td>\n",
              "      <td>2010-02-26</td>\n",
              "      <td>19403.54</td>\n",
              "      <td>False</td>\n",
              "    </tr>\n",
              "    <tr>\n",
              "      <th>4</th>\n",
              "      <td>1</td>\n",
              "      <td>1</td>\n",
              "      <td>2010-03-05</td>\n",
              "      <td>21827.90</td>\n",
              "      <td>False</td>\n",
              "    </tr>\n",
              "  </tbody>\n",
              "</table>\n",
              "</div>"
            ],
            "text/plain": [
              "   Store  Dept        Date  Weekly_Sales  IsHoliday\n",
              "0      1     1  2010-02-05      24924.50      False\n",
              "1      1     1  2010-02-12      46039.49       True\n",
              "2      1     1  2010-02-19      41595.55      False\n",
              "3      1     1  2010-02-26      19403.54      False\n",
              "4      1     1  2010-03-05      21827.90      False"
            ]
          },
          "metadata": {},
          "execution_count": 2
        }
      ]
    },
    {
      "cell_type": "markdown",
      "metadata": {
        "id": "avv63eXads-l"
      },
      "source": [
        "***: EDA :- Doing EDA Part overhere.***"
      ]
    },
    {
      "cell_type": "code",
      "metadata": {
        "colab": {
          "base_uri": "https://localhost:8080/"
        },
        "id": "2hCWXUBqArNU",
        "outputId": "14b7a785-26f3-42ad-bb3e-9e1bcc3cf2b2"
      },
      "source": [
        "# Checking how many rows and columns available in our dataset.\n",
        "\n",
        "dataset.shape"
      ],
      "execution_count": 3,
      "outputs": [
        {
          "output_type": "execute_result",
          "data": {
            "text/plain": [
              "(421570, 5)"
            ]
          },
          "metadata": {},
          "execution_count": 3
        }
      ]
    },
    {
      "cell_type": "code",
      "metadata": {
        "colab": {
          "base_uri": "https://localhost:8080/"
        },
        "id": "UX5yKaSOBoNe",
        "outputId": "210ae0b6-b5fc-492d-c44f-6e711af9e3fd"
      },
      "source": [
        "# Checking if there's any null value available there or not.\n",
        "\n",
        "dataset.isnull().sum()"
      ],
      "execution_count": 4,
      "outputs": [
        {
          "output_type": "execute_result",
          "data": {
            "text/plain": [
              "Store           0\n",
              "Dept            0\n",
              "Date            0\n",
              "Weekly_Sales    0\n",
              "IsHoliday       0\n",
              "dtype: int64"
            ]
          },
          "metadata": {},
          "execution_count": 4
        }
      ]
    },
    {
      "cell_type": "code",
      "metadata": {
        "colab": {
          "base_uri": "https://localhost:8080/",
          "height": 343
        },
        "id": "Xs5Y3HOQTL5K",
        "outputId": "f2730581-7c45-4ae9-c8eb-b0f1f886bdb2"
      },
      "source": [
        "# With the help of 'Seaborn' Visualizing 'Weekly_Sales' in this Graph.\n",
        "\n",
        "sns.distplot(dataset['Weekly_Sales'],bins=20)\n",
        "plt.show()"
      ],
      "execution_count": 5,
      "outputs": [
        {
          "output_type": "stream",
          "name": "stderr",
          "text": [
            "/usr/local/lib/python3.7/dist-packages/seaborn/distributions.py:2619: FutureWarning: `distplot` is a deprecated function and will be removed in a future version. Please adapt your code to use either `displot` (a figure-level function with similar flexibility) or `histplot` (an axes-level function for histograms).\n",
            "  warnings.warn(msg, FutureWarning)\n"
          ]
        },
        {
          "output_type": "display_data",
          "data": {
            "image/png": "[encoded data removed]",
            "text/plain": [
              "<Figure size 432x288 with 1 Axes>"
            ]
          },
          "metadata": {
            "needs_background": "light"
          }
        }
      ]
    },
    {
      "cell_type": "code",
      "metadata": {
        "id": "a2bDFb1CDSnI"
      },
      "source": [
        "# Converting categorical column in numeric dataset with the help of 'get_dummies()'.\n",
        "\n",
        "is_holiday_dummies = pd.get_dummies(dataset.IsHoliday, prefix='Holiday')\n",
        "dataset.IsHoliday = pd.concat([dataset, is_holiday_dummies], axis='columns' )\n"
      ],
      "execution_count": 6,
      "outputs": []
    },
    {
      "cell_type": "code",
      "metadata": {
        "id": "eZwT6o1QEzgW",
        "colab": {
          "base_uri": "https://localhost:8080/",
          "height": 200
        },
        "outputId": "cc2b7ffe-2338-47c8-aac5-5e47a9062b0f"
      },
      "source": [
        "# printing first 5 rows.\n",
        "\n",
        "dataset.head()"
      ],
      "execution_count": 7,
      "outputs": [
        {
          "output_type": "execute_result",
          "data": {
            "text/html": [
              "<div>\n",
              "<style scoped>\n",
              "    .dataframe tbody tr th:only-of-type {\n",
              "        vertical-align: middle;\n",
              "    }\n",
              "\n",
              "    .dataframe tbody tr th {\n",
              "        vertical-align: top;\n",
              "    }\n",
              "\n",
              "    .dataframe thead th {\n",
              "        text-align: right;\n",
              "    }\n",
              "</style>\n",
              "<table border=\"1\" class=\"dataframe\">\n",
              "  <thead>\n",
              "    <tr style=\"text-align: right;\">\n",
              "      <th></th>\n",
              "      <th>Store</th>\n",
              "      <th>Dept</th>\n",
              "      <th>Date</th>\n",
              "      <th>Weekly_Sales</th>\n",
              "      <th>IsHoliday</th>\n",
              "    </tr>\n",
              "  </thead>\n",
              "  <tbody>\n",
              "    <tr>\n",
              "      <th>0</th>\n",
              "      <td>1</td>\n",
              "      <td>1</td>\n",
              "      <td>2010-02-05</td>\n",
              "      <td>24924.50</td>\n",
              "      <td>1</td>\n",
              "    </tr>\n",
              "    <tr>\n",
              "      <th>1</th>\n",
              "      <td>1</td>\n",
              "      <td>1</td>\n",
              "      <td>2010-02-12</td>\n",
              "      <td>46039.49</td>\n",
              "      <td>1</td>\n",
              "    </tr>\n",
              "    <tr>\n",
              "      <th>2</th>\n",
              "      <td>1</td>\n",
              "      <td>1</td>\n",
              "      <td>2010-02-19</td>\n",
              "      <td>41595.55</td>\n",
              "      <td>1</td>\n",
              "    </tr>\n",
              "    <tr>\n",
              "      <th>3</th>\n",
              "      <td>1</td>\n",
              "      <td>1</td>\n",
              "      <td>2010-02-26</td>\n",
              "      <td>19403.54</td>\n",
              "      <td>1</td>\n",
              "    </tr>\n",
              "    <tr>\n",
              "      <th>4</th>\n",
              "      <td>1</td>\n",
              "      <td>1</td>\n",
              "      <td>2010-03-05</td>\n",
              "      <td>21827.90</td>\n",
              "      <td>1</td>\n",
              "    </tr>\n",
              "  </tbody>\n",
              "</table>\n",
              "</div>"
            ],
            "text/plain": [
              "   Store  Dept        Date  Weekly_Sales IsHoliday\n",
              "0      1     1  2010-02-05      24924.50         1\n",
              "1      1     1  2010-02-12      46039.49         1\n",
              "2      1     1  2010-02-19      41595.55         1\n",
              "3      1     1  2010-02-26      19403.54         1\n",
              "4      1     1  2010-03-05      21827.90         1"
            ]
          },
          "metadata": {},
          "execution_count": 7
        }
      ]
    },
    {
      "cell_type": "code",
      "metadata": {
        "id": "oPQZ2YkXCSMz",
        "colab": {
          "base_uri": "https://localhost:8080/",
          "height": 286
        },
        "outputId": "648d0339-c23c-4f06-d9eb-cca576e867e1"
      },
      "source": [
        "# Checking relation between feature (x) and label (y) columns.\n",
        "\n",
        "correlation_between_columns = dataset.corr()\n",
        "sns.heatmap(correlation_between_columns)"
      ],
      "execution_count": 8,
      "outputs": [
        {
          "output_type": "execute_result",
          "data": {
            "text/plain": [
              "<matplotlib.axes._subplots.AxesSubplot at 0x7f75b4e84b90>"
            ]
          },
          "metadata": {},
          "execution_count": 8
        },
        {
          "output_type": "display_data",
          "data": {
            "image/png": "[encoded data removed]",
            "text/plain": [
              "<Figure size 432x288 with 2 Axes>"
            ]
          },
          "metadata": {
            "needs_background": "light"
          }
        }
      ]
    },
    {
      "cell_type": "code",
      "metadata": {
        "id": "EHG45yucC-Sh",
        "colab": {
          "base_uri": "https://localhost:8080/",
          "height": 200
        },
        "outputId": "39d9eef0-cf90-45fd-98a7-007e4d0000df"
      },
      "source": [
        "# Converting Date Column in Separate column 'Day, Month and Year' format..\n",
        "\n",
        "dataset['Date'] = pd.to_datetime(dataset['Date'])\n",
        "dataset['Day'] = dataset['Date'].dt.day\n",
        "dataset['Month'] = dataset['Date'].dt.month\n",
        "dataset['Year'] = dataset['Date'].dt.year\n",
        "dataset.drop('Date', axis='columns', inplace=True)\n",
        "dataset.head()"
      ],
      "execution_count": 9,
      "outputs": [
        {
          "output_type": "execute_result",
          "data": {
            "text/html": [
              "<div>\n",
              "<style scoped>\n",
              "    .dataframe tbody tr th:only-of-type {\n",
              "        vertical-align: middle;\n",
              "    }\n",
              "\n",
              "    .dataframe tbody tr th {\n",
              "        vertical-align: top;\n",
              "    }\n",
              "\n",
              "    .dataframe thead th {\n",
              "        text-align: right;\n",
              "    }\n",
              "</style>\n",
              "<table border=\"1\" class=\"dataframe\">\n",
              "  <thead>\n",
              "    <tr style=\"text-align: right;\">\n",
              "      <th></th>\n",
              "      <th>Store</th>\n",
              "      <th>Dept</th>\n",
              "      <th>Weekly_Sales</th>\n",
              "      <th>IsHoliday</th>\n",
              "      <th>Day</th>\n",
              "      <th>Month</th>\n",
              "      <th>Year</th>\n",
              "    </tr>\n",
              "  </thead>\n",
              "  <tbody>\n",
              "    <tr>\n",
              "      <th>0</th>\n",
              "      <td>1</td>\n",
              "      <td>1</td>\n",
              "      <td>24924.50</td>\n",
              "      <td>1</td>\n",
              "      <td>5</td>\n",
              "      <td>2</td>\n",
              "      <td>2010</td>\n",
              "    </tr>\n",
              "    <tr>\n",
              "      <th>1</th>\n",
              "      <td>1</td>\n",
              "      <td>1</td>\n",
              "      <td>46039.49</td>\n",
              "      <td>1</td>\n",
              "      <td>12</td>\n",
              "      <td>2</td>\n",
              "      <td>2010</td>\n",
              "    </tr>\n",
              "    <tr>\n",
              "      <th>2</th>\n",
              "      <td>1</td>\n",
              "      <td>1</td>\n",
              "      <td>41595.55</td>\n",
              "      <td>1</td>\n",
              "      <td>19</td>\n",
              "      <td>2</td>\n",
              "      <td>2010</td>\n",
              "    </tr>\n",
              "    <tr>\n",
              "      <th>3</th>\n",
              "      <td>1</td>\n",
              "      <td>1</td>\n",
              "      <td>19403.54</td>\n",
              "      <td>1</td>\n",
              "      <td>26</td>\n",
              "      <td>2</td>\n",
              "      <td>2010</td>\n",
              "    </tr>\n",
              "    <tr>\n",
              "      <th>4</th>\n",
              "      <td>1</td>\n",
              "      <td>1</td>\n",
              "      <td>21827.90</td>\n",
              "      <td>1</td>\n",
              "      <td>5</td>\n",
              "      <td>3</td>\n",
              "      <td>2010</td>\n",
              "    </tr>\n",
              "  </tbody>\n",
              "</table>\n",
              "</div>"
            ],
            "text/plain": [
              "   Store  Dept  Weekly_Sales IsHoliday  Day  Month  Year\n",
              "0      1     1      24924.50         1    5      2  2010\n",
              "1      1     1      46039.49         1   12      2  2010\n",
              "2      1     1      41595.55         1   19      2  2010\n",
              "3      1     1      19403.54         1   26      2  2010\n",
              "4      1     1      21827.90         1    5      3  2010"
            ]
          },
          "metadata": {},
          "execution_count": 9
        }
      ]
    },
    {
      "cell_type": "code",
      "metadata": {
        "id": "9Xau5y2TGbQ6",
        "colab": {
          "base_uri": "https://localhost:8080/",
          "height": 200
        },
        "outputId": "aafc6418-970f-429a-a0b1-283884918e27"
      },
      "source": [
        "# Creating a New Dataset for Training purpose and separating Features (X).\n",
        "\n",
        "X = dataset[['Store','Dept','IsHoliday','Day','Month','Year']]\n",
        "X.head()"
      ],
      "execution_count": 10,
      "outputs": [
        {
          "output_type": "execute_result",
          "data": {
            "text/html": [
              "<div>\n",
              "<style scoped>\n",
              "    .dataframe tbody tr th:only-of-type {\n",
              "        vertical-align: middle;\n",
              "    }\n",
              "\n",
              "    .dataframe tbody tr th {\n",
              "        vertical-align: top;\n",
              "    }\n",
              "\n",
              "    .dataframe thead th {\n",
              "        text-align: right;\n",
              "    }\n",
              "</style>\n",
              "<table border=\"1\" class=\"dataframe\">\n",
              "  <thead>\n",
              "    <tr style=\"text-align: right;\">\n",
              "      <th></th>\n",
              "      <th>Store</th>\n",
              "      <th>Dept</th>\n",
              "      <th>IsHoliday</th>\n",
              "      <th>Day</th>\n",
              "      <th>Month</th>\n",
              "      <th>Year</th>\n",
              "    </tr>\n",
              "  </thead>\n",
              "  <tbody>\n",
              "    <tr>\n",
              "      <th>0</th>\n",
              "      <td>1</td>\n",
              "      <td>1</td>\n",
              "      <td>1</td>\n",
              "      <td>5</td>\n",
              "      <td>2</td>\n",
              "      <td>2010</td>\n",
              "    </tr>\n",
              "    <tr>\n",
              "      <th>1</th>\n",
              "      <td>1</td>\n",
              "      <td>1</td>\n",
              "      <td>1</td>\n",
              "      <td>12</td>\n",
              "      <td>2</td>\n",
              "      <td>2010</td>\n",
              "    </tr>\n",
              "    <tr>\n",
              "      <th>2</th>\n",
              "      <td>1</td>\n",
              "      <td>1</td>\n",
              "      <td>1</td>\n",
              "      <td>19</td>\n",
              "      <td>2</td>\n",
              "      <td>2010</td>\n",
              "    </tr>\n",
              "    <tr>\n",
              "      <th>3</th>\n",
              "      <td>1</td>\n",
              "      <td>1</td>\n",
              "      <td>1</td>\n",
              "      <td>26</td>\n",
              "      <td>2</td>\n",
              "      <td>2010</td>\n",
              "    </tr>\n",
              "    <tr>\n",
              "      <th>4</th>\n",
              "      <td>1</td>\n",
              "      <td>1</td>\n",
              "      <td>1</td>\n",
              "      <td>5</td>\n",
              "      <td>3</td>\n",
              "      <td>2010</td>\n",
              "    </tr>\n",
              "  </tbody>\n",
              "</table>\n",
              "</div>"
            ],
            "text/plain": [
              "   Store  Dept IsHoliday  Day  Month  Year\n",
              "0      1     1         1    5      2  2010\n",
              "1      1     1         1   12      2  2010\n",
              "2      1     1         1   19      2  2010\n",
              "3      1     1         1   26      2  2010\n",
              "4      1     1         1    5      3  2010"
            ]
          },
          "metadata": {},
          "execution_count": 10
        }
      ]
    },
    {
      "cell_type": "code",
      "metadata": {
        "colab": {
          "base_uri": "https://localhost:8080/",
          "height": 408
        },
        "id": "obH5kuY3Qyb-",
        "outputId": "3d1e34af-c30c-43a0-a780-65183406abc1"
      },
      "source": [
        "# Separating label (y).\n",
        "\n",
        "y = dataset.loc[:, ['Weekly_Sales']]\n",
        "y"
      ],
      "execution_count": 11,
      "outputs": [
        {
          "output_type": "execute_result",
          "data": {
            "text/html": [
              "<div>\n",
              "<style scoped>\n",
              "    .dataframe tbody tr th:only-of-type {\n",
              "        vertical-align: middle;\n",
              "    }\n",
              "\n",
              "    .dataframe tbody tr th {\n",
              "        vertical-align: top;\n",
              "    }\n",
              "\n",
              "    .dataframe thead th {\n",
              "        text-align: right;\n",
              "    }\n",
              "</style>\n",
              "<table border=\"1\" class=\"dataframe\">\n",
              "  <thead>\n",
              "    <tr style=\"text-align: right;\">\n",
              "      <th></th>\n",
              "      <th>Weekly_Sales</th>\n",
              "    </tr>\n",
              "  </thead>\n",
              "  <tbody>\n",
              "    <tr>\n",
              "      <th>0</th>\n",
              "      <td>24924.50</td>\n",
              "    </tr>\n",
              "    <tr>\n",
              "      <th>1</th>\n",
              "      <td>46039.49</td>\n",
              "    </tr>\n",
              "    <tr>\n",
              "      <th>2</th>\n",
              "      <td>41595.55</td>\n",
              "    </tr>\n",
              "    <tr>\n",
              "      <th>3</th>\n",
              "      <td>19403.54</td>\n",
              "    </tr>\n",
              "    <tr>\n",
              "      <th>4</th>\n",
              "      <td>21827.90</td>\n",
              "    </tr>\n",
              "    <tr>\n",
              "      <th>...</th>\n",
              "      <td>...</td>\n",
              "    </tr>\n",
              "    <tr>\n",
              "      <th>421565</th>\n",
              "      <td>508.37</td>\n",
              "    </tr>\n",
              "    <tr>\n",
              "      <th>421566</th>\n",
              "      <td>628.10</td>\n",
              "    </tr>\n",
              "    <tr>\n",
              "      <th>421567</th>\n",
              "      <td>1061.02</td>\n",
              "    </tr>\n",
              "    <tr>\n",
              "      <th>421568</th>\n",
              "      <td>760.01</td>\n",
              "    </tr>\n",
              "    <tr>\n",
              "      <th>421569</th>\n",
              "      <td>1076.80</td>\n",
              "    </tr>\n",
              "  </tbody>\n",
              "</table>\n",
              "<p>421570 rows × 1 columns</p>\n",
              "</div>"
            ],
            "text/plain": [
              "        Weekly_Sales\n",
              "0           24924.50\n",
              "1           46039.49\n",
              "2           41595.55\n",
              "3           19403.54\n",
              "4           21827.90\n",
              "...              ...\n",
              "421565        508.37\n",
              "421566        628.10\n",
              "421567       1061.02\n",
              "421568        760.01\n",
              "421569       1076.80\n",
              "\n",
              "[421570 rows x 1 columns]"
            ]
          },
          "metadata": {},
          "execution_count": 11
        }
      ]
    },
    {
      "cell_type": "code",
      "metadata": {
        "id": "UMDRNP7fYs7k"
      },
      "source": [
        "# Importing 'train_test_split' from sklearn and splitting training and testing data.\n",
        "\n",
        "from sklearn.model_selection import train_test_split\n",
        "X_train, X_test, y_train, y_test = train_test_split(X, y, test_size=0.2, random_state=0)"
      ],
      "execution_count": 12,
      "outputs": []
    },
    {
      "cell_type": "code",
      "metadata": {
        "colab": {
          "base_uri": "https://localhost:8080/"
        },
        "id": "_XoUZzyQcIlC",
        "outputId": "b567db0d-352e-490d-d81a-42b291c9b938"
      },
      "source": [
        "# Printing training data here.\n",
        "\n",
        "print(X_train)"
      ],
      "execution_count": 13,
      "outputs": [
        {
          "output_type": "stream",
          "name": "stdout",
          "text": [
            "        Store  Dept IsHoliday  Day  Month  Year\n",
            "201850     21    32        21   21      1  2011\n",
            "263688     27    58        27    3      9  2010\n",
            "147390     15    94        15    1     10  2010\n",
            "169866     18    19        18   22      6  2012\n",
            "253398     26    55        26   29      4  2011\n",
            "...       ...   ...       ...  ...    ...   ...\n",
            "359783     38    87        38   21      9  2012\n",
            "358083     38    59        38    5      3  2010\n",
            "152315     16    32        16   21      1  2011\n",
            "117952     13     3        13    1      4  2011\n",
            "305711     32    14        32   19      3  2010\n",
            "\n",
            "[337256 rows x 6 columns]\n"
          ]
        }
      ]
    },
    {
      "cell_type": "code",
      "metadata": {
        "colab": {
          "base_uri": "https://localhost:8080/"
        },
        "id": "bJU2PBSKdII6",
        "outputId": "d5f86a37-a23a-4d0c-da89-2bd3968bfcf1"
      },
      "source": [
        "# Printing testing data.\n",
        "\n",
        "print(X_test)"
      ],
      "execution_count": 14,
      "outputs": [
        {
          "output_type": "stream",
          "name": "stdout",
          "text": [
            "        Store  Dept IsHoliday  Day  Month  Year\n",
            "233571     24    55        24    6      5  2011\n",
            "88992      10    11        10   29     10  2010\n",
            "367842     39    59        39   25      6  2010\n",
            "184359     19    60        19   23      9  2011\n",
            "26175       3    45         3   19      2  2010\n",
            "...       ...   ...       ...  ...    ...   ...\n",
            "392371     42    11        42    2      7  2010\n",
            "389905     41    91        41   17      9  2010\n",
            "406834     44    16        44    5      8  2011\n",
            "118116     13     4        13   26      8  2011\n",
            "329386     34    87        34   25     11  2011\n",
            "\n",
            "[84314 rows x 6 columns]\n"
          ]
        }
      ]
    },
    {
      "cell_type": "markdown",
      "metadata": {
        "id": "1msy_vwvjvQZ"
      },
      "source": [
        "***> Using Multiple Linear Regression Algorithm here:-*** "
      ]
    },
    {
      "cell_type": "code",
      "metadata": {
        "id": "-XN186ZPdUyq"
      },
      "source": [
        "# Importing 'linear_model' from sklearn library.\n",
        "\n",
        "from sklearn.linear_model import LinearRegression\n",
        "\n",
        "reg = LinearRegression()"
      ],
      "execution_count": 15,
      "outputs": []
    },
    {
      "cell_type": "code",
      "metadata": {
        "colab": {
          "base_uri": "https://localhost:8080/"
        },
        "id": "dVCf3tvWegSf",
        "outputId": "eda6b869-34df-446d-d2ec-9676dbaf12c6"
      },
      "source": [
        "# Fitting the model on training dataset.\n",
        "\n",
        "reg.fit(X_train, y_train)"
      ],
      "execution_count": 16,
      "outputs": [
        {
          "output_type": "execute_result",
          "data": {
            "text/plain": [
              "LinearRegression(copy_X=True, fit_intercept=True, n_jobs=None, normalize=False)"
            ]
          },
          "metadata": {},
          "execution_count": 16
        }
      ]
    },
    {
      "cell_type": "code",
      "metadata": {
        "id": "g2cKlGsrethv"
      },
      "source": [
        "# Checking the Prediction on test dataset.\n",
        "\n",
        "y_pred = reg.predict(X_test)"
      ],
      "execution_count": 17,
      "outputs": []
    },
    {
      "cell_type": "code",
      "metadata": {
        "id": "qBQSZQpmeyr4"
      },
      "source": [
        "# Importing 'r2_score' from sklearn.metrics for checking the accuracy score of our Model.\n",
        "\n",
        "from sklearn.metrics import r2_score"
      ],
      "execution_count": 18,
      "outputs": []
    },
    {
      "cell_type": "code",
      "metadata": {
        "colab": {
          "base_uri": "https://localhost:8080/"
        },
        "id": "seId_O_3hRaG",
        "outputId": "bb0ba2aa-701a-4f03-9cc2-7a77cd3fbf1c"
      },
      "source": [
        "# Checking the accuracy level of this Model.\n",
        "\n",
        "r2_score(y_test, y_pred)"
      ],
      "execution_count": 19,
      "outputs": [
        {
          "output_type": "execute_result",
          "data": {
            "text/plain": [
              "0.03133271256441372"
            ]
          },
          "metadata": {},
          "execution_count": 19
        }
      ]
    },
    {
      "cell_type": "markdown",
      "metadata": {
        "id": "HgHJ44RPkDNC"
      },
      "source": [
        "***> Using KNN Regressor algorithm here:-***"
      ]
    },
    {
      "cell_type": "code",
      "metadata": {
        "id": "Nb5ICgyLhaTd"
      },
      "source": [
        "# Importing 'KNeighborsRegressor' from sklearn library for KNN algorithm and Importing 'mean_squared_error' for checking the error rate.\n",
        "\n",
        "from sklearn.neighbors import KNeighborsRegressor\n",
        "from sklearn.metrics import mean_squared_error"
      ],
      "execution_count": 20,
      "outputs": []
    },
    {
      "cell_type": "code",
      "metadata": {
        "id": "0D7oUX7Zisgt"
      },
      "source": [
        "# Fitting Model and also checking the error rate.\n",
        "\n",
        "mse = []\n",
        "r2 = []\n",
        "for i in range(1,10):\n",
        "    model = KNeighborsRegressor(n_neighbors=i)\n",
        "    model.fit(X_train,y_train)\n",
        "    y_pred = model.predict(X_test)\n",
        "    mse_i = mean_squared_error(y_test,y_pred)\n",
        "    mse.append(mse_i)\n",
        "    r2_i = r2_score(y_test,y_pred)\n",
        "    r2.append(r2_i)\n",
        "#     print('i = {}, mse = {} , r2 = {}'.format(i,mse_i,r2_i))"
      ],
      "execution_count": 21,
      "outputs": []
    },
    {
      "cell_type": "code",
      "metadata": {
        "colab": {
          "base_uri": "https://localhost:8080/",
          "height": 350
        },
        "id": "kAgB7MxejBBw",
        "outputId": "c4e0feaa-a9d3-489f-ee2f-e86a087e2aac"
      },
      "source": [
        "# Plotting the 'Error rate' vs 'K value' in Model with the help of Matplotlib library.\n",
        "\n",
        "plt.figure(figsize = (8,5))\n",
        "plt.plot(np.arange(1,10),mse,'r')\n",
        "plt.xlabel('k-value')\n",
        "plt.ylabel('mean-squared-error')\n",
        "plt.title('Selecting k-value')\n",
        "plt.show()"
      ],
      "execution_count": 22,
      "outputs": [
        {
          "output_type": "display_data",
          "data": {
            "image/png": "[encoded data removed]",
            "text/plain": [
              "<Figure size 576x360 with 1 Axes>"
            ]
          },
          "metadata": {
            "needs_background": "light"
          }
        }
      ]
    },
    {
      "cell_type": "code",
      "metadata": {
        "id": "GSOSWATkjTWR"
      },
      "source": [
        "# Using best nearest neighbors value so it can provide better accuracy.\n",
        "\n",
        "model = KNeighborsRegressor(n_neighbors=4)\n",
        "model.fit(X_train,y_train)\n",
        "y_pred = model.predict(X_test)"
      ],
      "execution_count": 23,
      "outputs": []
    },
    {
      "cell_type": "code",
      "metadata": {
        "colab": {
          "base_uri": "https://localhost:8080/"
        },
        "id": "IQ82vDmHjf3P",
        "outputId": "41bd971c-8ed6-4b35-b426-8005e50eccec"
      },
      "source": [
        "# With the help of 'r2_score' checking the accuracy level of Model.\n",
        "\n",
        "r2_score(y_test,y_pred)\n"
      ],
      "execution_count": 24,
      "outputs": [
        {
          "output_type": "execute_result",
          "data": {
            "text/plain": [
              "0.6210010541997584"
            ]
          },
          "metadata": {},
          "execution_count": 24
        }
      ]
    },
    {
      "cell_type": "markdown",
      "metadata": {
        "id": "GzbJHPGnlLu7"
      },
      "source": [
        "***> Using Decision Tree Regressor Algorithm here:-***"
      ]
    },
    {
      "cell_type": "code",
      "metadata": {
        "id": "WWftOTjMji3a"
      },
      "source": [
        "# Importing 'DecisionTreeRegressor' algorithm from sklearn library.\n",
        "\n",
        "from sklearn.tree import DecisionTreeRegressor"
      ],
      "execution_count": 25,
      "outputs": []
    },
    {
      "cell_type": "code",
      "metadata": {
        "id": "OO1J_fwrlkv4"
      },
      "source": [
        "# Creating Model on DecisionTree.\n",
        "\n",
        "dtr = DecisionTreeRegressor()"
      ],
      "execution_count": 26,
      "outputs": []
    },
    {
      "cell_type": "code",
      "metadata": {
        "colab": {
          "base_uri": "https://localhost:8080/"
        },
        "id": "YFFY_6a_lqmo",
        "outputId": "59e172e8-ede7-4f3c-dbf9-2f41850b16e9"
      },
      "source": [
        "# Fitting up Model on training dataset.\n",
        "\n",
        "dtr.fit(X_train, y_train)"
      ],
      "execution_count": 27,
      "outputs": [
        {
          "output_type": "execute_result",
          "data": {
            "text/plain": [
              "DecisionTreeRegressor(ccp_alpha=0.0, criterion='mse', max_depth=None,\n",
              "                      max_features=None, max_leaf_nodes=None,\n",
              "                      min_impurity_decrease=0.0, min_impurity_split=None,\n",
              "                      min_samples_leaf=1, min_samples_split=2,\n",
              "                      min_weight_fraction_leaf=0.0, presort='deprecated',\n",
              "                      random_state=None, splitter='best')"
            ]
          },
          "metadata": {},
          "execution_count": 27
        }
      ]
    },
    {
      "cell_type": "code",
      "metadata": {
        "colab": {
          "base_uri": "https://localhost:8080/"
        },
        "id": "6T6E2FVsluwq",
        "outputId": "eb71499d-994a-4b79-acc6-7ffbfee838d3"
      },
      "source": [
        "# Checking the accuracy level of Model.\n",
        "\n",
        "dtr.score(X_test, y_test)"
      ],
      "execution_count": 28,
      "outputs": [
        {
          "output_type": "execute_result",
          "data": {
            "text/plain": [
              "0.9635572016199699"
            ]
          },
          "metadata": {},
          "execution_count": 28
        }
      ]
    },
    {
      "cell_type": "markdown",
      "metadata": {
        "id": "hWOErfdeeKxY"
      },
      "source": [
        "***> Using 'Random Forest Regressor' algorithm to check the accuracy level of this Model:-***"
      ]
    },
    {
      "cell_type": "code",
      "metadata": {
        "id": "MGmymlSvtaI-"
      },
      "source": [
        "# Importing 'RandomForestRegressor' algorithm from sklearn library.\n",
        "\n",
        "from sklearn.ensemble import RandomForestRegressor"
      ],
      "execution_count": 29,
      "outputs": []
    },
    {
      "cell_type": "code",
      "metadata": {
        "id": "Gue4IJtztfSq"
      },
      "source": [
        "# Creating a class and using RandomForestRegressor there..\n",
        "\n",
        "rfr = RandomForestRegressor(n_estimators=50)"
      ],
      "execution_count": 30,
      "outputs": []
    },
    {
      "cell_type": "code",
      "metadata": {
        "colab": {
          "base_uri": "https://localhost:8080/"
        },
        "id": "f92INErMtlxg",
        "outputId": "b967bca5-0226-42a8-931d-a607d17712a8"
      },
      "source": [
        "# Fitting up the Model there.\n",
        "\n",
        "rfr.fit(X_train, y_train)"
      ],
      "execution_count": 31,
      "outputs": [
        {
          "output_type": "stream",
          "name": "stderr",
          "text": [
            "/usr/local/lib/python3.7/dist-packages/ipykernel_launcher.py:3: DataConversionWarning: A column-vector y was passed when a 1d array was expected. Please change the shape of y to (n_samples,), for example using ravel().\n",
            "  This is separate from the ipykernel package so we can avoid doing imports until\n"
          ]
        },
        {
          "output_type": "execute_result",
          "data": {
            "text/plain": [
              "RandomForestRegressor(bootstrap=True, ccp_alpha=0.0, criterion='mse',\n",
              "                      max_depth=None, max_features='auto', max_leaf_nodes=None,\n",
              "                      max_samples=None, min_impurity_decrease=0.0,\n",
              "                      min_impurity_split=None, min_samples_leaf=1,\n",
              "                      min_samples_split=2, min_weight_fraction_leaf=0.0,\n",
              "                      n_estimators=50, n_jobs=None, oob_score=False,\n",
              "                      random_state=None, verbose=0, warm_start=False)"
            ]
          },
          "metadata": {},
          "execution_count": 31
        }
      ]
    },
    {
      "cell_type": "code",
      "metadata": {
        "colab": {
          "base_uri": "https://localhost:8080/"
        },
        "id": "u8isboSut0Cb",
        "outputId": "cb3cd07b-9d1a-4327-deb5-895f813c6df3"
      },
      "source": [
        "# Checking the accuracy level of Our Model.\n",
        "\n",
        "rfr.score(X_test, y_test)"
      ],
      "execution_count": 32,
      "outputs": [
        {
          "output_type": "execute_result",
          "data": {
            "text/plain": [
              "0.9703370283656185"
            ]
          },
          "metadata": {},
          "execution_count": 32
        }
      ]
    },
    {
      "cell_type": "markdown",
      "metadata": {
        "id": "rZkv6ETujDWP"
      },
      "source": [
        "### ***: As we have use few algorithm here. So you can see the better accuracy level according to algorithm below:***\n",
        "\n",
        "\n",
        "\n",
        "####*** Multiple Linear Regression** :- *As you have seen above in 'Multiple Linear Regression' it's providing accuracy level = 3%.*\n",
        "\n",
        "####*** KNN Regressor** :- *As you have seen above in 'KNN Regressor' it's providing accuracy level = 62%.*\n",
        "\n",
        "####*** Decision Tree Regressor** :- *As you have seen above in 'Decision Tree Regressor' it's providing accuracy level = 96%.*\n",
        "\n",
        "####*** Random Forest Regressor** :- *As you have seen above in 'Random Forest Regressor' it's providing accuracy level = 97%.*\n",
        "\n",
        "\n",
        "### ***Note:-*** ***So as it clearly mentioned that we are getting higher accuracy level from 'Random Forest Regressor'. So we'll use it for our Model.***\n",
        "\n",
        "\n",
        "\n",
        "\n",
        "\n"
      ]
    }
  ]
}